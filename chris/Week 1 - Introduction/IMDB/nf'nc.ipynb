{
 "cells": [
  {
   "cell_type": "code",
   "execution_count": 8,
   "metadata": {
    "collapsed": false
   },
   "outputs": [],
   "source": [
    "import csv\n",
    "\n",
    "reader = csv.reader(open('movie_metadata.csv'))\n",
    "idl = {}\n",
    "\n",
    "nd = []\n",
    "\n",
    "def grade(number):\n",
    "    number = float(number)\n",
    "    if number < 3:\n",
    "        return 'very-bad'\n",
    "    elif number < 5:\n",
    "        return 'bad'\n",
    "    elif number < 7:\n",
    "        return 'okay'\n",
    "    elif number < 8:\n",
    "        return 'good'\n",
    "    elif number < 10:\n",
    "        return 'very-good'\n",
    "        \n",
    "\n",
    "for i, row in enumerate(reader):\n",
    "    row = [x.replace(' ', '-') for x in row]\n",
    "    row = [x.replace(' ', '-') for x in row]\n",
    "    row = [x.replace(' ', '-') for x in row]\n",
    "    row = ['?' if not x else x for x in row]\n",
    "    if not i:\n",
    "        nd.append(row + ['quality'])\n",
    "        idl = {key: i for i, key in enumerate(row)}\n",
    "    else:\n",
    "        nd.append(row + [grade(row[idl['imdb_score']])])\n",
    "        \n",
    "writer = csv.writer(open('move_metadata_v2.csv', 'w'))\n",
    "writer.writerows(nd)"
   ]
  }
 ],
 "metadata": {
  "kernelspec": {
   "display_name": "Python 3",
   "language": "python",
   "name": "python3"
  },
  "language_info": {
   "codemirror_mode": {
    "name": "ipython",
    "version": 3
   },
   "file_extension": ".py",
   "mimetype": "text/x-python",
   "name": "python",
   "nbconvert_exporter": "python",
   "pygments_lexer": "ipython3",
   "version": "3.5.2"
  }
 },
 "nbformat": 4,
 "nbformat_minor": 0
}
