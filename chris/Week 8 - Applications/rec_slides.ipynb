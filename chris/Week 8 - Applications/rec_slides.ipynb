{
 "cells": [
  {
   "cell_type": "code",
   "execution_count": 4,
   "metadata": {
    "collapsed": true,
    "slideshow": {
     "slide_type": "skip"
    }
   },
   "outputs": [],
   "source": [
    "from IPython.display import Image"
   ]
  },
  {
   "cell_type": "markdown",
   "metadata": {
    "slideshow": {
     "slide_type": "slide"
    }
   },
   "source": [
    "# Data Mining\n",
    "\n",
    "# Lecture 7b: Applications\n",
    "\n",
    "![img](https://udemy-images.udemy.com/course/750x422/918390_02a6.jpg)"
   ]
  },
  {
   "cell_type": "markdown",
   "metadata": {
    "slideshow": {
     "slide_type": "slide"
    }
   },
   "source": [
    "## Why Now?"
   ]
  },
  {
   "cell_type": "markdown",
   "metadata": {
    "slideshow": {
     "slide_type": "subslide"
    }
   },
   "source": [
    "![img1](http://www.dvhardware.net/news/2016/mooreslaw_visualized.png)"
   ]
  },
  {
   "cell_type": "markdown",
   "metadata": {
    "slideshow": {
     "slide_type": "subslide"
    }
   },
   "source": [
    "![img2](http://cdn.wccftech.com/wp-content/uploads/2016/02/NVIDIA-Pascal-GPU-Performance.jpg)"
   ]
  },
  {
   "cell_type": "markdown",
   "metadata": {
    "slideshow": {
     "slide_type": "subslide"
    }
   },
   "source": [
    "![img3](http://www.kdnuggets.com/wp-content/uploads/test.jpg)"
   ]
  },
  {
   "cell_type": "markdown",
   "metadata": {
    "slideshow": {
     "slide_type": "subslide"
    }
   },
   "source": [
    "![img4](https://cbi-blog.s3.amazonaws.com/blog/wp-content/uploads/2017/04/AI_acqui_timeline_2016April.png)"
   ]
  },
  {
   "cell_type": "markdown",
   "metadata": {
    "slideshow": {
     "slide_type": "subslide"
    }
   },
   "source": [
    "### This Part\n",
    "\n",
    "- Recommender Systems"
   ]
  },
  {
   "cell_type": "markdown",
   "metadata": {
    "slideshow": {
     "slide_type": "slide"
    }
   },
   "source": [
    "## Recommender Systems"
   ]
  },
  {
   "cell_type": "markdown",
   "metadata": {
    "slideshow": {
     "slide_type": "subslide"
    }
   },
   "source": [
    "### What Would You Like?\n",
    "\n",
    "- Facebook\n",
    "- Amazon\n",
    "- Spotify\n",
    "- Netflix\n",
    "\n",
    "![img_rec2](http://image.slidesharecdn.com/shah-june27-425pm-room210a-v2-130710105227-phpapp01/95/recommender-system-at-scale-using-hbase-and-hadoop-8-638.jpg?cb=1373453680)"
   ]
  },
  {
   "cell_type": "markdown",
   "metadata": {
    "slideshow": {
     "slide_type": "subslide"
    }
   },
   "source": [
    "### Collaborative Filtering\n",
    "\n",
    "![img_col](https://upload.wikimedia.org/wikipedia/commons/5/52/Collaborative_filtering.gif)\n",
    "\n",
    "Pretty standard DM task: given this history, predict recommendation for user X."
   ]
  },
  {
   "cell_type": "markdown",
   "metadata": {
    "slideshow": {
     "slide_type": "subslide"
    }
   },
   "source": [
    "### Why Does This Work?\n",
    "\n",
    "- Users that like the same content are deemed to be similar.\n",
    "- Content that is liked by the same kind of users is deemed to be similar.\n",
    "- Content doesn't matter: books, music, pictures, etc."
   ]
  },
  {
   "cell_type": "markdown",
   "metadata": {
    "slideshow": {
     "slide_type": "subslide"
    }
   },
   "source": [
    "### Where Does It Fail?\n",
    "\n",
    "- Relies on data:\n",
    "    - Popular items have a lot of that.\n",
    "    - If this $\\neq$ then that.\n",
    "    - Cold start problem: new user / new item.\n",
    "    \n",
    "    \n",
    "![img_rec3](http://insidebigdata.com/wp-content/uploads/2014/06/Humor_recommender.jpg)"
   ]
  },
  {
   "cell_type": "markdown",
   "metadata": {
    "slideshow": {
     "slide_type": "subslide"
    }
   },
   "source": [
    "### Content-based Filtering\n",
    "\n",
    "- Uses content or meta-data for items.\n",
    "    - Text from books.\n",
    "    - Audio from music.\n",
    "    - Stills from films.\n",
    "    - Titles, tags, actors, year, theme, etc."
   ]
  },
  {
   "cell_type": "markdown",
   "metadata": {
    "slideshow": {
     "slide_type": "subslide"
    }
   },
   "source": [
    "### Interpeting Content: Audio Example\n",
    "\n",
    "By Van den Oord, Dieleman, and Schrauwe (2013). See [blog](https://benanne.github.io/2014/08/05/spotify-cnns.html).\n",
    "\n",
    "[![img_mus](https://benanne.github.io/images/prentje_nips.png)](https://benanne.github.io/2014/08/05/spotify-cnns.html)"
   ]
  },
  {
   "cell_type": "markdown",
   "metadata": {
    "slideshow": {
     "slide_type": "subslide"
    }
   },
   "source": [
    "### Observations From the Netflix Prize\n",
    "\n",
    "\\$1M to beat Netflix' RMSE for predicting user's movie ratings. Intuitive solutions?\n",
    "\n",
    "- Standard features:\n",
    "    - Predict according to relative quality.\n",
    "    - User's tendency of voting (critical users).\n",
    "    - Compatibility with the movie.\n",
    "    \n",
    "    \n",
    "![nf_prize](http://4.bp.blogspot.com/-22y2c1qT3CA/T3-aKF-i6pI/AAAAAAAAAO0/nCJZ2OotiRw/s1600/NetflixPrize.png)"
   ]
  },
  {
   "cell_type": "markdown",
   "metadata": {
    "slideshow": {
     "slide_type": "subslide"
    }
   },
   "source": [
    "- Time-based features:\n",
    "    - People who rate in batch tend to rate older movies.\n",
    "        - Different rating criteria (nostalgia).\n",
    "        - Movies sometimes don't age well.\n",
    "    - Present time also plays a role.\n",
    "        - Same movies rated differently friday vs. monday.\n",
    "        - Moods are up on sundays, raising ratings."
   ]
  }
 ],
 "metadata": {
  "celltoolbar": "Slideshow",
  "kernelspec": {
   "display_name": "Python 3",
   "language": "python",
   "name": "python3"
  },
  "language_info": {
   "codemirror_mode": {
    "name": "ipython",
    "version": 3
   },
   "file_extension": ".py",
   "mimetype": "text/x-python",
   "name": "python",
   "nbconvert_exporter": "python",
   "pygments_lexer": "ipython3",
   "version": "3.5.2"
  }
 },
 "nbformat": 4,
 "nbformat_minor": 1
}
